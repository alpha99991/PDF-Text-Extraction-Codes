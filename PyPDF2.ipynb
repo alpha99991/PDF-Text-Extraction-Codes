{
 "cells": [
  {
   "cell_type": "code",
   "execution_count": 1,
   "metadata": {},
   "outputs": [],
   "source": [
    "import PyPDF2 as pdf"
   ]
  },
  {
   "cell_type": "code",
   "execution_count": 2,
   "metadata": {},
   "outputs": [],
   "source": [
    "file = open(\"D:\\INTERNSHIP\\ACCRETE.AI\\Data\\\\44- Israel_china_arms_trade_unfreezing.pdf\", 'rb')"
   ]
  },
  {
   "cell_type": "code",
   "execution_count": 82,
   "metadata": {},
   "outputs": [
    {
     "data": {
      "text/plain": [
       "<_io.BufferedReader name='D:\\\\INTERNSHIP\\\\ACCRETE.AI\\\\Data\\\\70- China in Global Technology Governance- full.pdf'>"
      ]
     },
     "execution_count": 82,
     "metadata": {},
     "output_type": "execute_result"
    }
   ],
   "source": [
    "file"
   ]
  },
  {
   "cell_type": "code",
   "execution_count": 3,
   "metadata": {},
   "outputs": [],
   "source": [
    "pdf_reader = pdf.PdfFileReader(file)"
   ]
  },
  {
   "cell_type": "code",
   "execution_count": 9,
   "metadata": {},
   "outputs": [
    {
     "data": {
      "text/plain": [
       "<PyPDF2.pdf.PdfFileReader at 0x13b706bed88>"
      ]
     },
     "execution_count": 9,
     "metadata": {},
     "output_type": "execute_result"
    }
   ],
   "source": [
    "pdf_reader"
   ]
  },
  {
   "cell_type": "code",
   "execution_count": 6,
   "metadata": {},
   "outputs": [
    {
     "data": {
      "text/plain": [
       "False"
      ]
     },
     "execution_count": 6,
     "metadata": {},
     "output_type": "execute_result"
    }
   ],
   "source": [
    "# Encrypted i.e without any password\n",
    "\n",
    "pdf_reader.getIsEncrypted()"
   ]
  },
  {
   "cell_type": "code",
   "execution_count": 11,
   "metadata": {},
   "outputs": [
    {
     "data": {
      "text/plain": [
       "150"
      ]
     },
     "execution_count": 11,
     "metadata": {},
     "output_type": "execute_result"
    }
   ],
   "source": [
    "pdf_reader.getNumPages()"
   ]
  },
  {
   "cell_type": "code",
   "execution_count": 27,
   "metadata": {},
   "outputs": [],
   "source": [
    "i = 0"
   ]
  },
  {
   "cell_type": "code",
   "execution_count": 28,
   "metadata": {},
   "outputs": [],
   "source": [
    "page1 = pdf_reader.getPage(i) # It will be in binary encoded form"
   ]
  },
  {
   "cell_type": "code",
   "execution_count": 29,
   "metadata": {},
   "outputs": [
    {
     "data": {
      "text/plain": [
       "'CHINACHAMPION OF (WHICH) \\nGLOBALISATION?\\nThis year marks the 40th anniversary of China™s reforms \\nand opening up. In four decades, China has learned how \\n\\n\\nworld economic champion. As the world™s second-largest \\neconomy, today China is no longer the factory of the world \\nbut an industrial power aiming at the forefront of major high-\\n\\ntech sectors, in direct competition with Europe and the US. \\n\\nIn sharp contrast with Trump™s scepticism on multilateralism, \\nPresident Xi has renewed his commitment to growing an \\nopen global economy. But how does globalisation with \\n\\n\\nrisks or more opportunities to both mature and emerging \\n\\neconomies? To what extent is China willing to comply with \\ninternational rules and standards? Is Beijing trying set its \\nown global rules and institutions? Is the world destined \\nto a new model of economic globalisation detached from \\n\\npolitical and cultural openness?\\nAlessia Amighini \\nis Co-Head of Asia Centre and \\n\\nSenior Associate Research \\n\\nFellow at ISPI. She is Associate \\n\\nProfessor of Economics at the \\n\\nDepartment of Economic and \\n\\nBusiness Studies (DiSEI) at the \\n\\nUniversity of Piemonte Orientale \\n\\n(Novara, Italy).\\nThe Italian Institute for Inter\\n-national Political Studies (ISPI) \\n\\nis an independent think tank \\n\\ndedicated to being a resource \\n\\n\\n-\\nness executives, journalists, \\n\\ncivil servants students and the \\n\\npublic at large wishing to better \\n\\nunderstand international issues. \\n\\nIt monitors geopolitical areas as \\n\\nwell as major trends in interna\\n-\\n\\n\\nFounded in Milan in 1934, ISPI \\n\\nis the only Italian Institute Œ and \\n\\none of the few in Europe Œ to \\n\\nplace research activities side by \\n\\nside to training, organization of \\n\\ninternational conferences, and \\n\\nthe analysis of the international \\n\\nenvironment for businesses. \\n\\nComprehensive interdisciplinary \\n\\nanalysis is achieved through \\n\\nclose collaboration with experts \\n\\n(academics and non-academ\\n-\\nics alike) in political, economic, \\n\\nlegal, historical and strategic \\n\\nstudies and through an ever\\n-growing network of think tanks, \\n\\nresearch centers, and Universi\\n-\\nties in Europe and beyond.\\nCHINA: CHAMPION OF (WHICH) GLOBALISATION?\\nedited by \\nAlessia Amighini\\n\\nintroduction by \\nPaolo Magri\\n• 12'"
      ]
     },
     "execution_count": 29,
     "metadata": {},
     "output_type": "execute_result"
    }
   ],
   "source": [
    "page1.extractText()"
   ]
  },
  {
   "cell_type": "markdown",
   "metadata": {},
   "source": []
  },
  {
   "cell_type": "code",
   "execution_count": 1,
   "metadata": {},
   "outputs": [],
   "source": [
    "from PyPDF2 import PdfFileReader"
   ]
  },
  {
   "cell_type": "code",
   "execution_count": 2,
   "metadata": {},
   "outputs": [],
   "source": [
    "def get_info(path):\n",
    "    \n",
    "    with open(path,'rb') as f:\n",
    "        \n",
    "        pdf = PdfFileReader(f)\n",
    "        info = pdf.getDocumentInfo()\n",
    "        number_of_pages = pdf.getNumPages()\n",
    "        \n",
    "    print(info)\n",
    "    \n",
    "    author = info.author\n",
    "    creator = info.creator\n",
    "    subject = info.subject\n",
    "    title = info.title"
   ]
  },
  {
   "cell_type": "code",
   "execution_count": 3,
   "metadata": {},
   "outputs": [
    {
     "name": "stdout",
     "output_type": "stream",
     "text": [
      "{'/Keywords': 'China; defense industry; innovation; technology transfers; absorption', '/ModDate': \"D:20160913230749-07'00'\", '/Creator': 'Arbortext Advanced Print Publisher 11.0.3352/W Unicode', '/CreationDate': \"D:20160909133526+05'30'\", '/Producer': 'iText 4.2.0 by 1T3XT', '/Subject': 'Journal of Strategic Studies, 2016. doi:10.1080/01402390.2016.1208612', '/Author': 'Tai Ming Cheung', '/Title': 'Innovation in China’s Defense Technology Base: Foreign Technology and Military Capabilities'}\n"
     ]
    }
   ],
   "source": [
    "l = get_info(\"D:\\INTERNSHIP\\ACCRETE.AI\\Data\\\\3- Innovation in China.pdf\")"
   ]
  },
  {
   "cell_type": "markdown",
   "metadata": {},
   "source": [
    "##### A Simple function to store all the text from the pages in a list of strings\n"
   ]
  },
  {
   "cell_type": "code",
   "execution_count": 8,
   "metadata": {},
   "outputs": [],
   "source": [
    "def get_text(path):\n",
    "    \n",
    "    text = []\n",
    "    \n",
    "    file = open(path,'rb')\n",
    "    pdf_reader = pdf.PdfFileReader(file)\n",
    "    num_pg = pdf_reader.getNumPages()\n",
    "    \n",
    "    for i in range(0,num_pg):\n",
    "        \n",
    "        page = pdf_reader.getPage(i)\n",
    "        txt = page.extractText()\n",
    "        \n",
    "        text.append(txt)\n",
    "    \n",
    "    return text,num_pg\n"
   ]
  },
  {
   "cell_type": "code",
   "execution_count": 9,
   "metadata": {},
   "outputs": [],
   "source": [
    "G,npg = get_text(\"D:\\INTERNSHIP\\ACCRETE.AI\\Data\\\\46- Washington Obstructing Israel.pdf\")"
   ]
  },
  {
   "cell_type": "code",
   "execution_count": 10,
   "metadata": {},
   "outputs": [
    {
     "data": {
      "text/plain": [
       "['', '', '', '', '2', '', '', '', '', '']"
      ]
     },
     "execution_count": 10,
     "metadata": {},
     "output_type": "execute_result"
    }
   ],
   "source": [
    "G"
   ]
  },
  {
   "cell_type": "code",
   "execution_count": null,
   "metadata": {
    "scrolled": true
   },
   "outputs": [],
   "source": []
  },
  {
   "cell_type": "code",
   "execution_count": null,
   "metadata": {},
   "outputs": [],
   "source": []
  }
 ],
 "metadata": {
  "kernelspec": {
   "display_name": "Python 3",
   "language": "python",
   "name": "python3"
  },
  "language_info": {
   "codemirror_mode": {
    "name": "ipython",
    "version": 3
   },
   "file_extension": ".py",
   "mimetype": "text/x-python",
   "name": "python",
   "nbconvert_exporter": "python",
   "pygments_lexer": "ipython3",
   "version": "3.7.4"
  }
 },
 "nbformat": 4,
 "nbformat_minor": 4
}
